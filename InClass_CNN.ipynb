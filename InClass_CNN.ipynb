{
 "cells": [
  {
   "cell_type": "code",
   "execution_count": 1,
   "metadata": {
    "slideshow": {
     "slide_type": "-"
    }
   },
   "outputs": [],
   "source": [
    "# Just to ignore warnings\n",
    "import warnings\n",
    "warnings.filterwarnings('ignore')\n",
    "\n",
    "\n",
    "import pandas as pd\n",
    "\n",
    "import livelossplot"
   ]
  },
  {
   "cell_type": "code",
   "execution_count": 2,
   "metadata": {
    "collapsed": true
   },
   "outputs": [
    {
     "name": "stdout",
     "output_type": "stream",
     "text": [
      "Requirement already satisfied: livelossplot in c:\\users\\dania\\anaconda3\\lib\\site-packages (0.4.1)\n",
      "Requirement already satisfied: matplotlib in c:\\users\\dania\\anaconda3\\lib\\site-packages (from livelossplot) (3.0.3)\n",
      "Requirement already satisfied: notebook in c:\\users\\dania\\anaconda3\\lib\\site-packages (from livelossplot) (5.7.8)\n",
      "Requirement already satisfied: numpy>=1.10.0 in c:\\users\\dania\\anaconda3\\lib\\site-packages (from matplotlib->livelossplot) (1.16.2)\n",
      "Requirement already satisfied: cycler>=0.10 in c:\\users\\dania\\anaconda3\\lib\\site-packages (from matplotlib->livelossplot) (0.10.0)\n",
      "Requirement already satisfied: kiwisolver>=1.0.1 in c:\\users\\dania\\anaconda3\\lib\\site-packages (from matplotlib->livelossplot) (1.0.1)\n",
      "Requirement already satisfied: pyparsing!=2.0.4,!=2.1.2,!=2.1.6,>=2.0.1 in c:\\users\\dania\\anaconda3\\lib\\site-packages (from matplotlib->livelossplot) (2.3.1)\n",
      "Requirement already satisfied: python-dateutil>=2.1 in c:\\users\\dania\\anaconda3\\lib\\site-packages (from matplotlib->livelossplot) (2.8.0)\n",
      "Requirement already satisfied: pyzmq>=17 in c:\\users\\dania\\anaconda3\\lib\\site-packages (from notebook->livelossplot) (18.0.0)\n",
      "Requirement already satisfied: terminado>=0.8.1 in c:\\users\\dania\\anaconda3\\lib\\site-packages (from notebook->livelossplot) (0.8.1)\n",
      "Requirement already satisfied: prometheus-client in c:\\users\\dania\\anaconda3\\lib\\site-packages (from notebook->livelossplot) (0.6.0)\n",
      "Requirement already satisfied: traitlets>=4.2.1 in c:\\users\\dania\\anaconda3\\lib\\site-packages (from notebook->livelossplot) (4.3.2)\n",
      "Requirement already satisfied: nbconvert in c:\\users\\dania\\anaconda3\\lib\\site-packages (from notebook->livelossplot) (5.4.1)\n",
      "Requirement already satisfied: Send2Trash in c:\\users\\dania\\anaconda3\\lib\\site-packages (from notebook->livelossplot) (1.5.0)\n",
      "Requirement already satisfied: jupyter-core>=4.4.0 in c:\\users\\dania\\anaconda3\\lib\\site-packages (from notebook->livelossplot) (4.4.0)\n",
      "Requirement already satisfied: ipython-genutils in c:\\users\\dania\\anaconda3\\lib\\site-packages (from notebook->livelossplot) (0.2.0)\n",
      "Requirement already satisfied: nbformat in c:\\users\\dania\\anaconda3\\lib\\site-packages (from notebook->livelossplot) (4.4.0)\n",
      "Requirement already satisfied: jinja2 in c:\\users\\dania\\anaconda3\\lib\\site-packages (from notebook->livelossplot) (2.10)\n",
      "Requirement already satisfied: tornado<7,>=4.1 in c:\\users\\dania\\anaconda3\\lib\\site-packages (from notebook->livelossplot) (6.0.2)\n",
      "Requirement already satisfied: ipykernel in c:\\users\\dania\\anaconda3\\lib\\site-packages (from notebook->livelossplot) (5.1.0)\n",
      "Requirement already satisfied: jupyter-client>=5.2.0 in c:\\users\\dania\\anaconda3\\lib\\site-packages (from notebook->livelossplot) (5.2.4)\n",
      "Requirement already satisfied: six in c:\\users\\dania\\appdata\\roaming\\python\\python37\\site-packages (from cycler>=0.10->matplotlib->livelossplot) (1.12.0)\n",
      "Requirement already satisfied: setuptools in c:\\users\\dania\\anaconda3\\lib\\site-packages (from kiwisolver>=1.0.1->matplotlib->livelossplot) (40.8.0)\n",
      "Requirement already satisfied: decorator in c:\\users\\dania\\anaconda3\\lib\\site-packages (from traitlets>=4.2.1->notebook->livelossplot) (4.4.0)\n",
      "Requirement already satisfied: mistune>=0.8.1 in c:\\users\\dania\\anaconda3\\lib\\site-packages (from nbconvert->notebook->livelossplot) (0.8.4)\n",
      "Requirement already satisfied: pygments in c:\\users\\dania\\anaconda3\\lib\\site-packages (from nbconvert->notebook->livelossplot) (2.3.1)\n",
      "Requirement already satisfied: entrypoints>=0.2.2 in c:\\users\\dania\\anaconda3\\lib\\site-packages (from nbconvert->notebook->livelossplot) (0.3)\n",
      "Requirement already satisfied: bleach in c:\\users\\dania\\anaconda3\\lib\\site-packages (from nbconvert->notebook->livelossplot) (3.1.0)\n",
      "Requirement already satisfied: pandocfilters>=1.4.1 in c:\\users\\dania\\anaconda3\\lib\\site-packages (from nbconvert->notebook->livelossplot) (1.4.2)\n",
      "Requirement already satisfied: testpath in c:\\users\\dania\\anaconda3\\lib\\site-packages (from nbconvert->notebook->livelossplot) (0.4.2)\n",
      "Requirement already satisfied: defusedxml in c:\\users\\dania\\anaconda3\\lib\\site-packages (from nbconvert->notebook->livelossplot) (0.5.0)\n",
      "Requirement already satisfied: jsonschema!=2.5.0,>=2.4 in c:\\users\\dania\\anaconda3\\lib\\site-packages (from nbformat->notebook->livelossplot) (3.0.1)\n",
      "Requirement already satisfied: MarkupSafe>=0.23 in c:\\users\\dania\\anaconda3\\lib\\site-packages (from jinja2->notebook->livelossplot) (1.1.1)\n",
      "Requirement already satisfied: ipython>=5.0.0 in c:\\users\\dania\\anaconda3\\lib\\site-packages (from ipykernel->notebook->livelossplot) (7.4.0)\n",
      "Requirement already satisfied: webencodings in c:\\users\\dania\\anaconda3\\lib\\site-packages (from bleach->nbconvert->notebook->livelossplot) (0.5.1)\n",
      "Requirement already satisfied: attrs>=17.4.0 in c:\\users\\dania\\anaconda3\\lib\\site-packages (from jsonschema!=2.5.0,>=2.4->nbformat->notebook->livelossplot) (19.1.0)\n",
      "Requirement already satisfied: pyrsistent>=0.14.0 in c:\\users\\dania\\anaconda3\\lib\\site-packages (from jsonschema!=2.5.0,>=2.4->nbformat->notebook->livelossplot) (0.14.11)\n",
      "Requirement already satisfied: jedi>=0.10 in c:\\users\\dania\\anaconda3\\lib\\site-packages (from ipython>=5.0.0->ipykernel->notebook->livelossplot) (0.13.3)\n",
      "Requirement already satisfied: pickleshare in c:\\users\\dania\\anaconda3\\lib\\site-packages (from ipython>=5.0.0->ipykernel->notebook->livelossplot) (0.7.5)\n",
      "Requirement already satisfied: backcall in c:\\users\\dania\\anaconda3\\lib\\site-packages (from ipython>=5.0.0->ipykernel->notebook->livelossplot) (0.1.0)\n",
      "Requirement already satisfied: colorama; sys_platform == \"win32\" in c:\\users\\dania\\appdata\\roaming\\python\\python37\\site-packages (from ipython>=5.0.0->ipykernel->notebook->livelossplot) (0.4.1)\n",
      "Requirement already satisfied: prompt-toolkit<2.1.0,>=2.0.0 in c:\\users\\dania\\anaconda3\\lib\\site-packages (from ipython>=5.0.0->ipykernel->notebook->livelossplot) (2.0.9)\n",
      "Requirement already satisfied: parso>=0.3.0 in c:\\users\\dania\\anaconda3\\lib\\site-packages (from jedi>=0.10->ipython>=5.0.0->ipykernel->notebook->livelossplot) (0.3.4)\n",
      "Requirement already satisfied: wcwidth in c:\\users\\dania\\anaconda3\\lib\\site-packages (from prompt-toolkit<2.1.0,>=2.0.0->ipython>=5.0.0->ipykernel->notebook->livelossplot) (0.1.7)\n"
     ]
    }
   ],
   "source": [
    "!pip install livelossplot\n"
   ]
  },
  {
   "cell_type": "code",
   "execution_count": 7,
   "metadata": {},
   "outputs": [
    {
     "name": "stdout",
     "output_type": "stream",
     "text": [
      "Requirement already satisfied: rise in c:\\users\\dania\\anaconda3\\lib\\site-packages (5.5.0)\n",
      "Requirement already satisfied: notebook>=5.5.0 in c:\\users\\dania\\anaconda3\\lib\\site-packages (from rise) (5.7.8)\n",
      "Requirement already satisfied: ipykernel in c:\\users\\dania\\anaconda3\\lib\\site-packages (from notebook>=5.5.0->rise) (5.1.0)\n",
      "Requirement already satisfied: pyzmq>=17 in c:\\users\\dania\\anaconda3\\lib\\site-packages (from notebook>=5.5.0->rise) (18.0.0)\n",
      "Requirement already satisfied: nbformat in c:\\users\\dania\\anaconda3\\lib\\site-packages (from notebook>=5.5.0->rise) (4.4.0)\n",
      "Requirement already satisfied: prometheus-client in c:\\users\\dania\\anaconda3\\lib\\site-packages (from notebook>=5.5.0->rise) (0.6.0)\n",
      "Requirement already satisfied: jinja2 in c:\\users\\dania\\anaconda3\\lib\\site-packages (from notebook>=5.5.0->rise) (2.10)\n",
      "Requirement already satisfied: jupyter-core>=4.4.0 in c:\\users\\dania\\anaconda3\\lib\\site-packages (from notebook>=5.5.0->rise) (4.4.0)\n",
      "Requirement already satisfied: nbconvert in c:\\users\\dania\\anaconda3\\lib\\site-packages (from notebook>=5.5.0->rise) (5.4.1)\n",
      "Requirement already satisfied: Send2Trash in c:\\users\\dania\\anaconda3\\lib\\site-packages (from notebook>=5.5.0->rise) (1.5.0)\n",
      "Requirement already satisfied: ipython-genutils in c:\\users\\dania\\anaconda3\\lib\\site-packages (from notebook>=5.5.0->rise) (0.2.0)\n",
      "Requirement already satisfied: tornado<7,>=4.1 in c:\\users\\dania\\anaconda3\\lib\\site-packages (from notebook>=5.5.0->rise) (6.0.2)\n",
      "Requirement already satisfied: traitlets>=4.2.1 in c:\\users\\dania\\anaconda3\\lib\\site-packages (from notebook>=5.5.0->rise) (4.3.2)\n",
      "Requirement already satisfied: jupyter-client>=5.2.0 in c:\\users\\dania\\anaconda3\\lib\\site-packages (from notebook>=5.5.0->rise) (5.2.4)\n",
      "Requirement already satisfied: terminado>=0.8.1 in c:\\users\\dania\\anaconda3\\lib\\site-packages (from notebook>=5.5.0->rise) (0.8.1)\n",
      "Requirement already satisfied: ipython>=5.0.0 in c:\\users\\dania\\anaconda3\\lib\\site-packages (from ipykernel->notebook>=5.5.0->rise) (7.4.0)\n",
      "Requirement already satisfied: jsonschema!=2.5.0,>=2.4 in c:\\users\\dania\\anaconda3\\lib\\site-packages (from nbformat->notebook>=5.5.0->rise) (3.0.1)\n",
      "Requirement already satisfied: MarkupSafe>=0.23 in c:\\users\\dania\\anaconda3\\lib\\site-packages (from jinja2->notebook>=5.5.0->rise) (1.1.1)\n",
      "Requirement already satisfied: mistune>=0.8.1 in c:\\users\\dania\\anaconda3\\lib\\site-packages (from nbconvert->notebook>=5.5.0->rise) (0.8.4)\n",
      "Requirement already satisfied: pygments in c:\\users\\dania\\anaconda3\\lib\\site-packages (from nbconvert->notebook>=5.5.0->rise) (2.3.1)\n",
      "Requirement already satisfied: entrypoints>=0.2.2 in c:\\users\\dania\\anaconda3\\lib\\site-packages (from nbconvert->notebook>=5.5.0->rise) (0.3)\n",
      "Requirement already satisfied: bleach in c:\\users\\dania\\anaconda3\\lib\\site-packages (from nbconvert->notebook>=5.5.0->rise) (3.1.0)\n",
      "Requirement already satisfied: pandocfilters>=1.4.1 in c:\\users\\dania\\anaconda3\\lib\\site-packages (from nbconvert->notebook>=5.5.0->rise) (1.4.2)\n",
      "Requirement already satisfied: testpath in c:\\users\\dania\\anaconda3\\lib\\site-packages (from nbconvert->notebook>=5.5.0->rise) (0.4.2)\n",
      "Requirement already satisfied: defusedxml in c:\\users\\dania\\anaconda3\\lib\\site-packages (from nbconvert->notebook>=5.5.0->rise) (0.5.0)\n",
      "Requirement already satisfied: six in c:\\users\\dania\\appdata\\roaming\\python\\python37\\site-packages (from traitlets>=4.2.1->notebook>=5.5.0->rise) (1.12.0)\n",
      "Requirement already satisfied: decorator in c:\\users\\dania\\anaconda3\\lib\\site-packages (from traitlets>=4.2.1->notebook>=5.5.0->rise) (4.4.0)\n",
      "Requirement already satisfied: python-dateutil>=2.1 in c:\\users\\dania\\anaconda3\\lib\\site-packages (from jupyter-client>=5.2.0->notebook>=5.5.0->rise) (2.8.0)\n",
      "Requirement already satisfied: prompt-toolkit<2.1.0,>=2.0.0 in c:\\users\\dania\\anaconda3\\lib\\site-packages (from ipython>=5.0.0->ipykernel->notebook>=5.5.0->rise) (2.0.9)\n",
      "Requirement already satisfied: jedi>=0.10 in c:\\users\\dania\\anaconda3\\lib\\site-packages (from ipython>=5.0.0->ipykernel->notebook>=5.5.0->rise) (0.13.3)\n",
      "Requirement already satisfied: pickleshare in c:\\users\\dania\\anaconda3\\lib\\site-packages (from ipython>=5.0.0->ipykernel->notebook>=5.5.0->rise) (0.7.5)\n",
      "Requirement already satisfied: backcall in c:\\users\\dania\\anaconda3\\lib\\site-packages (from ipython>=5.0.0->ipykernel->notebook>=5.5.0->rise) (0.1.0)\n",
      "Requirement already satisfied: setuptools>=18.5 in c:\\users\\dania\\anaconda3\\lib\\site-packages (from ipython>=5.0.0->ipykernel->notebook>=5.5.0->rise) (40.8.0)\n",
      "Requirement already satisfied: colorama; sys_platform == \"win32\" in c:\\users\\dania\\appdata\\roaming\\python\\python37\\site-packages (from ipython>=5.0.0->ipykernel->notebook>=5.5.0->rise) (0.4.1)\n",
      "Requirement already satisfied: attrs>=17.4.0 in c:\\users\\dania\\anaconda3\\lib\\site-packages (from jsonschema!=2.5.0,>=2.4->nbformat->notebook>=5.5.0->rise) (19.1.0)\n",
      "Requirement already satisfied: pyrsistent>=0.14.0 in c:\\users\\dania\\anaconda3\\lib\\site-packages (from jsonschema!=2.5.0,>=2.4->nbformat->notebook>=5.5.0->rise) (0.14.11)\n",
      "Requirement already satisfied: webencodings in c:\\users\\dania\\anaconda3\\lib\\site-packages (from bleach->nbconvert->notebook>=5.5.0->rise) (0.5.1)\n",
      "Requirement already satisfied: wcwidth in c:\\users\\dania\\anaconda3\\lib\\site-packages (from prompt-toolkit<2.1.0,>=2.0.0->ipython>=5.0.0->ipykernel->notebook>=5.5.0->rise) (0.1.7)\n",
      "Requirement already satisfied: parso>=0.3.0 in c:\\users\\dania\\anaconda3\\lib\\site-packages (from jedi>=0.10->ipython>=5.0.0->ipykernel->notebook>=5.5.0->rise) (0.3.4)\n"
     ]
    }
   ],
   "source": [
    "!pip install rise"
   ]
  },
  {
   "cell_type": "code",
   "execution_count": 8,
   "metadata": {},
   "outputs": [],
   "source": [
    "#Load the MNIST Dataset\n",
    "from keras.datasets import mnist\n",
    "(x_train, y_train), (x_test, y_test) = mnist.load_data()"
   ]
  },
  {
   "cell_type": "code",
   "execution_count": 9,
   "metadata": {},
   "outputs": [
    {
     "data": {
      "text/plain": [
       "array([[  0,   0,   0,   0,   0,   0,   0,   0,   0,   0,   0,   0,   0,\n",
       "          0,   0,   0,   0,   0,   0,   0,   0,   0,   0,   0,   0,   0,\n",
       "          0,   0],\n",
       "       [  0,   0,   0,   0,   0,   0,   0,   0,   0,   0,   0,   0,   0,\n",
       "          0,   0,   0,   0,   0,   0,   0,   0,   0,   0,   0,   0,   0,\n",
       "          0,   0],\n",
       "       [  0,   0,   0,   0,   0,   0,   0,   0,   0,   0,   0,   0,   0,\n",
       "          0,   0,   0,   0,   0,   0,   0,   0,   0,   0,   0,   0,   0,\n",
       "          0,   0],\n",
       "       [  0,   0,   0,   0,   0,   0,   0,   0,   0,   0,   0,   0,   0,\n",
       "          0,   0,   0,   0,   0,   0,   0,   0,   0,   0,   0,   0,   0,\n",
       "          0,   0],\n",
       "       [  0,   0,   0,   0,   0,   0,   0,   0,   0,   0,   0,   0,   0,\n",
       "          0,   0,   0,   0,   0,   0,   0,   0,   0,   0,   0,   0,   0,\n",
       "          0,   0],\n",
       "       [  0,   0,   0,   0,   0,   0,   0,   0,   0,   0,   0,   0,   3,\n",
       "         18,  18,  18, 126, 136, 175,  26, 166, 255, 247, 127,   0,   0,\n",
       "          0,   0],\n",
       "       [  0,   0,   0,   0,   0,   0,   0,   0,  30,  36,  94, 154, 170,\n",
       "        253, 253, 253, 253, 253, 225, 172, 253, 242, 195,  64,   0,   0,\n",
       "          0,   0],\n",
       "       [  0,   0,   0,   0,   0,   0,   0,  49, 238, 253, 253, 253, 253,\n",
       "        253, 253, 253, 253, 251,  93,  82,  82,  56,  39,   0,   0,   0,\n",
       "          0,   0],\n",
       "       [  0,   0,   0,   0,   0,   0,   0,  18, 219, 253, 253, 253, 253,\n",
       "        253, 198, 182, 247, 241,   0,   0,   0,   0,   0,   0,   0,   0,\n",
       "          0,   0],\n",
       "       [  0,   0,   0,   0,   0,   0,   0,   0,  80, 156, 107, 253, 253,\n",
       "        205,  11,   0,  43, 154,   0,   0,   0,   0,   0,   0,   0,   0,\n",
       "          0,   0],\n",
       "       [  0,   0,   0,   0,   0,   0,   0,   0,   0,  14,   1, 154, 253,\n",
       "         90,   0,   0,   0,   0,   0,   0,   0,   0,   0,   0,   0,   0,\n",
       "          0,   0],\n",
       "       [  0,   0,   0,   0,   0,   0,   0,   0,   0,   0,   0, 139, 253,\n",
       "        190,   2,   0,   0,   0,   0,   0,   0,   0,   0,   0,   0,   0,\n",
       "          0,   0],\n",
       "       [  0,   0,   0,   0,   0,   0,   0,   0,   0,   0,   0,  11, 190,\n",
       "        253,  70,   0,   0,   0,   0,   0,   0,   0,   0,   0,   0,   0,\n",
       "          0,   0],\n",
       "       [  0,   0,   0,   0,   0,   0,   0,   0,   0,   0,   0,   0,  35,\n",
       "        241, 225, 160, 108,   1,   0,   0,   0,   0,   0,   0,   0,   0,\n",
       "          0,   0],\n",
       "       [  0,   0,   0,   0,   0,   0,   0,   0,   0,   0,   0,   0,   0,\n",
       "         81, 240, 253, 253, 119,  25,   0,   0,   0,   0,   0,   0,   0,\n",
       "          0,   0],\n",
       "       [  0,   0,   0,   0,   0,   0,   0,   0,   0,   0,   0,   0,   0,\n",
       "          0,  45, 186, 253, 253, 150,  27,   0,   0,   0,   0,   0,   0,\n",
       "          0,   0],\n",
       "       [  0,   0,   0,   0,   0,   0,   0,   0,   0,   0,   0,   0,   0,\n",
       "          0,   0,  16,  93, 252, 253, 187,   0,   0,   0,   0,   0,   0,\n",
       "          0,   0],\n",
       "       [  0,   0,   0,   0,   0,   0,   0,   0,   0,   0,   0,   0,   0,\n",
       "          0,   0,   0,   0, 249, 253, 249,  64,   0,   0,   0,   0,   0,\n",
       "          0,   0],\n",
       "       [  0,   0,   0,   0,   0,   0,   0,   0,   0,   0,   0,   0,   0,\n",
       "          0,  46, 130, 183, 253, 253, 207,   2,   0,   0,   0,   0,   0,\n",
       "          0,   0],\n",
       "       [  0,   0,   0,   0,   0,   0,   0,   0,   0,   0,   0,   0,  39,\n",
       "        148, 229, 253, 253, 253, 250, 182,   0,   0,   0,   0,   0,   0,\n",
       "          0,   0],\n",
       "       [  0,   0,   0,   0,   0,   0,   0,   0,   0,   0,  24, 114, 221,\n",
       "        253, 253, 253, 253, 201,  78,   0,   0,   0,   0,   0,   0,   0,\n",
       "          0,   0],\n",
       "       [  0,   0,   0,   0,   0,   0,   0,   0,  23,  66, 213, 253, 253,\n",
       "        253, 253, 198,  81,   2,   0,   0,   0,   0,   0,   0,   0,   0,\n",
       "          0,   0],\n",
       "       [  0,   0,   0,   0,   0,   0,  18, 171, 219, 253, 253, 253, 253,\n",
       "        195,  80,   9,   0,   0,   0,   0,   0,   0,   0,   0,   0,   0,\n",
       "          0,   0],\n",
       "       [  0,   0,   0,   0,  55, 172, 226, 253, 253, 253, 253, 244, 133,\n",
       "         11,   0,   0,   0,   0,   0,   0,   0,   0,   0,   0,   0,   0,\n",
       "          0,   0],\n",
       "       [  0,   0,   0,   0, 136, 253, 253, 253, 212, 135, 132,  16,   0,\n",
       "          0,   0,   0,   0,   0,   0,   0,   0,   0,   0,   0,   0,   0,\n",
       "          0,   0],\n",
       "       [  0,   0,   0,   0,   0,   0,   0,   0,   0,   0,   0,   0,   0,\n",
       "          0,   0,   0,   0,   0,   0,   0,   0,   0,   0,   0,   0,   0,\n",
       "          0,   0],\n",
       "       [  0,   0,   0,   0,   0,   0,   0,   0,   0,   0,   0,   0,   0,\n",
       "          0,   0,   0,   0,   0,   0,   0,   0,   0,   0,   0,   0,   0,\n",
       "          0,   0],\n",
       "       [  0,   0,   0,   0,   0,   0,   0,   0,   0,   0,   0,   0,   0,\n",
       "          0,   0,   0,   0,   0,   0,   0,   0,   0,   0,   0,   0,   0,\n",
       "          0,   0]], dtype=uint8)"
      ]
     },
     "execution_count": 9,
     "metadata": {},
     "output_type": "execute_result"
    }
   ],
   "source": [
    "x_train[0]"
   ]
  },
  {
   "cell_type": "code",
   "execution_count": 10,
   "metadata": {},
   "outputs": [],
   "source": [
    "import matplotlib.pyplot as plt\n",
    "%matplotlib inline"
   ]
  },
  {
   "cell_type": "code",
   "execution_count": 11,
   "metadata": {},
   "outputs": [
    {
     "data": {
      "text/plain": [
       "<matplotlib.image.AxesImage at 0x15fa289d320>"
      ]
     },
     "execution_count": 11,
     "metadata": {},
     "output_type": "execute_result"
    },
    {
     "data": {
      "image/png": "[encoded data removed]",
      "text/plain": [
       "<Figure size 432x288 with 1 Axes>"
      ]
     },
     "metadata": {
      "needs_background": "light"
     },
     "output_type": "display_data"
    }
   ],
   "source": [
    "plt.imshow(x_train[0], cmap='gray')"
   ]
  },
  {
   "cell_type": "code",
   "execution_count": 19,
   "metadata": {},
   "outputs": [],
   "source": [
    "#Prepare Data for CNN\n",
    "x_train = x_train.reshape(60000, 28, 28, 1)\n",
    "x_test = x_test.reshape(10000, 28, 28, 1)"
   ]
  },
  {
   "cell_type": "code",
   "execution_count": 20,
   "metadata": {},
   "outputs": [],
   "source": [
    "x_train = x_train/255  # scaling from 0-1\n",
    "x_test = x_test/255"
   ]
  },
  {
   "cell_type": "code",
   "execution_count": null,
   "metadata": {},
   "outputs": [],
   "source": []
  },
  {
   "cell_type": "code",
   "execution_count": 21,
   "metadata": {},
   "outputs": [],
   "source": [
    "#Initialize the Network\n",
    "from keras.models import Sequential\n",
    "model = Sequential()"
   ]
  },
  {
   "cell_type": "code",
   "execution_count": 22,
   "metadata": {},
   "outputs": [],
   "source": [
    "#Add First Convolutional Layer\n",
    "from keras.layers import Conv2D\n",
    "model.add(Conv2D(28, (3, 3), input_shape=(28, 28, 1), activation='relu'))\n"
   ]
  },
  {
   "cell_type": "code",
   "execution_count": 23,
   "metadata": {},
   "outputs": [],
   "source": [
    "#Add Pooling Layer\n",
    "from keras.layers import MaxPooling2D\n",
    "model.add(MaxPooling2D(pool_size=(2, 2)))"
   ]
  },
  {
   "cell_type": "code",
   "execution_count": 24,
   "metadata": {},
   "outputs": [],
   "source": [
    "#Add Flattening Layer\n",
    "from keras.layers import Flatten\n",
    "model.add(Flatten())"
   ]
  },
  {
   "cell_type": "code",
   "execution_count": 25,
   "metadata": {},
   "outputs": [],
   "source": [
    "#Add a Fully-Connected Layer\n",
    "#Add Output Layer\n",
    "\n",
    "from keras.layers import Dense\n",
    "\n",
    "model.add(Dense(units=128, activation='relu'))\n",
    "\n",
    "model.add(Dense(units=10, activation='softmax'))"
   ]
  },
  {
   "cell_type": "code",
   "execution_count": 26,
   "metadata": {},
   "outputs": [],
   "source": [
    "#Build the CNN\n",
    "model.compile(optimizer='adam', loss='sparse_categorical_crossentropy', metrics=['accuracy'])"
   ]
  },
  {
   "cell_type": "code",
   "execution_count": 27,
   "metadata": {},
   "outputs": [],
   "source": [
    "plot_losses = livelossplot.PlotLossesKeras()"
   ]
  },
  {
   "cell_type": "code",
   "execution_count": 28,
   "metadata": {},
   "outputs": [
    {
     "data": {
      "image/png": "[encoded data removed]",
      "text/plain": [
       "<Figure size 864x576 with 2 Axes>"
      ]
     },
     "metadata": {
      "needs_background": "light"
     },
     "output_type": "display_data"
    },
    {
     "name": "stdout",
     "output_type": "stream",
     "text": [
      "Log-loss (cost function):\n",
      "training   (min:    0.244, max:    2.283, cur:    0.244)\n",
      "validation (min:    0.232, max:    2.231, cur:    0.232)\n",
      "\n",
      "Accuracy:\n",
      "training   (min:    0.172, max:    0.928, cur:    0.928)\n",
      "validation (min:    0.346, max:    0.931, cur:    0.931)\n"
     ]
    },
    {
     "data": {
      "text/plain": [
       "<keras.callbacks.History at 0x15fa5befc18>"
      ]
     },
     "execution_count": 28,
     "metadata": {},
     "output_type": "execute_result"
    }
   ],
   "source": [
    "model.fit(x_train, y_train,\n",
    "          batch_size = 1000, # 5, 10 or other number, try!\n",
    "          callbacks = [plot_losses],\n",
    "          epochs = 30, # Less epochs - Basic Model\n",
    "          validation_data = (x_test, y_test)) \n",
    "# Look at the loss curves, is the model overfitting? Dropout!!!"
   ]
  },
  {
   "cell_type": "code",
   "execution_count": null,
   "metadata": {},
   "outputs": [],
   "source": []
  },
  {
   "cell_type": "code",
   "execution_count": 30,
   "metadata": {},
   "outputs": [
    {
     "name": "stdout",
     "output_type": "stream",
     "text": [
      "Epoch 1/10\n",
      "60000/60000 [==============================] - 106s 2ms/step - loss: 0.0925 - acc: 0.9717\n",
      "Epoch 2/10\n",
      "60000/60000 [==============================] - 111s 2ms/step - loss: 0.0834 - acc: 0.9742\n",
      "Epoch 3/10\n",
      "60000/60000 [==============================] - 115s 2ms/step - loss: 0.0712 - acc: 0.9776 1s - l\n",
      "Epoch 5/10\n",
      "60000/60000 [==============================] - 115s 2ms/step - loss: 0.0656 - acc: 0.9799\n",
      "Epoch 6/10\n",
      "60000/60000 [==============================] - 122s 2ms/step - loss: 0.0611 - acc: 0.9811\n",
      "Epoch 7/10\n",
      "60000/60000 [==============================] - 126s 2ms/step - loss: 0.0573 - acc: 0.9824\n",
      "Epoch 8/10\n",
      "60000/60000 [==============================] - 118s 2ms/step - loss: 0.0527 - acc: 0.9836\n",
      "Epoch 9/10\n",
      "60000/60000 [==============================] - 110s 2ms/step - loss: 0.0497 - acc: 0.9841: 9 - ETA: - ETA: 2s - los - ETA: 1s - loss: 0.0497 -\n",
      "Epoch 10/10\n",
      "60000/60000 [==============================] - 112s 2ms/step - loss: 0.0467 - acc: 0.9853\n"
     ]
    },
    {
     "data": {
      "text/plain": [
       "<keras.callbacks.History at 0x15fbcc60128>"
      ]
     },
     "execution_count": 30,
     "metadata": {},
     "output_type": "execute_result"
    }
   ],
   "source": [
    "#Train the CNN\n",
    "model.fit(x_train, y_train, epochs=10)"
   ]
  },
  {
   "cell_type": "code",
   "execution_count": 31,
   "metadata": {},
   "outputs": [
    {
     "name": "stdout",
     "output_type": "stream",
     "text": [
      "10000/10000 [==============================] - 6s 598us/step\n"
     ]
    }
   ],
   "source": [
    "#Test the CNN\n",
    "\n",
    "\n",
    "loss, accuracy = model.evaluate(x_test, y_test)"
   ]
  },
  {
   "cell_type": "code",
   "execution_count": 32,
   "metadata": {},
   "outputs": [
    {
     "data": {
      "text/plain": [
       "0.071075787510816"
      ]
     },
     "execution_count": 32,
     "metadata": {},
     "output_type": "execute_result"
    }
   ],
   "source": [
    "loss"
   ]
  },
  {
   "cell_type": "code",
   "execution_count": 33,
   "metadata": {},
   "outputs": [
    {
     "data": {
      "text/plain": [
       "0.9788"
      ]
     },
     "execution_count": 33,
     "metadata": {},
     "output_type": "execute_result"
    }
   ],
   "source": [
    "accuracy"
   ]
  },
  {
   "cell_type": "code",
   "execution_count": null,
   "metadata": {},
   "outputs": [],
   "source": []
  },
  {
   "cell_type": "code",
   "execution_count": null,
   "metadata": {},
   "outputs": [],
   "source": []
  },
  {
   "cell_type": "code",
   "execution_count": null,
   "metadata": {},
   "outputs": [],
   "source": []
  },
  {
   "cell_type": "code",
   "execution_count": null,
   "metadata": {},
   "outputs": [],
   "source": []
  },
  {
   "cell_type": "code",
   "execution_count": null,
   "metadata": {},
   "outputs": [],
   "source": []
  },
  {
   "cell_type": "code",
   "execution_count": null,
   "metadata": {},
   "outputs": [],
   "source": []
  }
 ],
 "metadata": {
  "kernelspec": {
   "display_name": "Python 3",
   "language": "python",
   "name": "python3"
  },
  "language_info": {
   "codemirror_mode": {
    "name": "ipython",
    "version": 3
   },
   "file_extension": ".py",
   "mimetype": "text/x-python",
   "name": "python",
   "nbconvert_exporter": "python",
   "pygments_lexer": "ipython3",
   "version": "3.7.3"
  }
 },
 "nbformat": 4,
 "nbformat_minor": 2
}
